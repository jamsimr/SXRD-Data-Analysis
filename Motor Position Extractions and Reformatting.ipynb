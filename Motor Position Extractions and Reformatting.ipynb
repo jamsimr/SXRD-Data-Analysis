import pandas as pd

import os

#Part 1 of script that extracts the motor positions from the output rows of GDA

# Read the first data file into a dataframe
data = {'diff2delta': [], 'diff2gamma': [], 'diff2alpha': [], 'diff2omega': [], 'betain': [], 'betaout': [], 'qaz': [], 'theta': [], 'ttheta': []}
with open('11.dat') as f:
    current_loop = {}
    for line in f:
        if line.startswith('_fourc would move to:'):
            current_loop = {}
        elif line.strip() and ':' in line:
            category, value = line.strip().split(':')
            current_loop[category.strip()] = float(value.strip())
            if len(current_loop) == len(data):
                for category, value in current_loop.items():
                    data[category].append(value)
df1 = pd.DataFrame(data)

# Read the second data file into a dataframe and skip the first 175 lines
df2 = pd.read_csv('359523.dat', sep='\t', skiprows=176, usecols=['h', 'k', 'l'])

# Concatenate the two dataframes horizontally
merged_file = pd.concat([df2, df1], axis=1)

# reorder the columns
merged_file = merged_file[['h', 'k', 'l', 'diff2delta', 'diff2gamma', 'diff2alpha', 'diff2omega', 'theta', 'qaz', 'betain', 'betaout']]

format_dict = {
    'h': '.5f',  # use the new column names for h, k, l
    'k': '.5f',
    'l': '.5f',
    'qaz': '.5f',
    'theta': '.5f',
    'ttheta': '.5f',
    'betain': '.5f',
    'betaout': '.5f',
    'diff2omega': '.3f',
    'diff2delta': '.3f',
    'diff2gamma': '.4f',
    'diff2alpha': '.4f',
}

# Loop through format_dict and apply formatting to respective columns in merged_file
for col, fmt in format_dict.items():
    if col in merged_file.columns:
        merged_file[col] = merged_file[col].apply(lambda x: format(x, fmt))

# Save the merged dataframe to a new file
merged_file.to_csv('359523.txt', sep='\t', index=False, float_format='%.15g')

#Part 2 of script that combines the extracted motor positions with other values from the .dat file with the appropriate reformatting

# read the existing file
existing_file = pd.read_csv('359523.dat', sep='\t', skiprows=176)

# read the new file
new_file = pd.read_csv("359523.txt", delimiter="\t")

# merge the two files based on the index
merged_file = existing_file.merge(new_file, on=['h', 'k', 'l'])

# create new columns with different names for h, k, l
merged_file['h_new'] = merged_file['h']
merged_file['k_new'] = merged_file['k']
merged_file['l_new'] = merged_file['l']

# reorder the columns
merged_file = merged_file[['h_new', 'k_new', 'l_new', 'diff2delta', 'diff2gamma', 'diff2alpha', 'diff2omega', 'h', 'k', 'l', 'theta', 'qaz', 'betain', 'betaout', 'ExposureTime', 'file', 'roi1_X', 'roi1_Y', 'roi1_Width', 'roi1_Height', 'roi1_Angle', 'roi1_minx', 'roi1_miny', 'roi1_minval', 'roi1_maxx', 'roi1_maxy', 'roi1_maxval', 'roi1_mean', 'roi1_std', 'roi1_sum']]

format_dict = {
    'ExposureTime': '.6f',
    'roi1_Angle': '.6f',
    'roi1_mean': '.6f',
    'roi1_std': '.6f',
    'h_new': '.5f',  # needs to be corrected manually in the new .dat file as the script seems to struggle with duplicate column names
    'k_new': '.5f',
    'l_new': '.5f',
    'h': '.5f',  
    'k': '.5f',
    'l': '.5f',
    'qaz': '.5f',
    'theta': '.5f',
    'ttheta': '.5f',
    'betain': '.5f',
    'betaout': '.5f',
    'diff2omega': '.3f',
    'diff2delta': '.3f',
    'diff2gamma': '.4f',
    'diff2alpha': '.4f',
    'file': '.1f'
}

# Loop through format_dict and apply formatting to respective columns in merged_file
for col, fmt in format_dict.items():
    if col in merged_file.columns:
        merged_file[col] = merged_file[col].apply(lambda x: format(x, fmt))

# save the merged file
merged_file.to_csv("f359523_temp.dat", sep='\t', index=False, float_format='%.15g')

# concatenate the two files
with open('359523.dat', 'r') as f_in, open('f359523_temp.dat', 'r') as f_temp, open('f359523.dat', 'w') as f_out:
    # write the first 176 lines to the new file
    for i in range(176):
        f_out.write(f_in.readline())
    # write the merged data to the new file
    for line in f_temp:
        f_out.write(line)

# remove the temporary file
os.remove('f359523_temp.dat')
os.remove('359523.txt')
